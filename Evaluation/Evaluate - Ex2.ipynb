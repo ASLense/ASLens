{
 "cells": [
  {
   "cell_type": "code",
   "execution_count": 1,
   "id": "fca55afe",
   "metadata": {},
   "outputs": [],
   "source": [
    "import numpy as np\n",
    "import matplotlib.pyplot as plt\n",
    "import torch\n",
    "import torch.nn as nn\n",
    "from torch.utils.data import Dataset\n",
    "from torch.utils.data import DataLoader\n",
    "import string\n",
    "import h5py\n",
    "import torch.nn.functional as F\n",
    "import string\n",
    "import re\n",
    "import sys\n",
    "import pandas as pd\n",
    "from torch.nn.utils.rnn import pad_sequence\n",
    "from dataclasses import dataclass\n",
    "\n",
    "from datetime import datetime"
   ]
  },
  {
   "cell_type": "code",
   "execution_count": 2,
   "id": "96f0d90b",
   "metadata": {},
   "outputs": [
    {
     "name": "stdout",
     "output_type": "stream",
     "text": [
      "cuda:0\n"
     ]
    }
   ],
   "source": [
    "device = torch.device('cuda:0' if torch.cuda.is_available() else 'cpu')\n",
    "print(device)"
   ]
  },
  {
   "cell_type": "code",
   "execution_count": 3,
   "id": "b557ab4a",
   "metadata": {},
   "outputs": [
    {
     "name": "stderr",
     "output_type": "stream",
     "text": [
      "Some weights of GPT2LMHeadModel were not initialized from the model checkpoint at gpt2 and are newly initialized: ['transformer.h.0.crossattention.c_attn.bias', 'transformer.h.0.crossattention.c_attn.weight', 'transformer.h.0.crossattention.c_proj.bias', 'transformer.h.0.crossattention.c_proj.weight', 'transformer.h.0.crossattention.q_attn.bias', 'transformer.h.0.crossattention.q_attn.weight', 'transformer.h.0.ln_cross_attn.bias', 'transformer.h.0.ln_cross_attn.weight', 'transformer.h.1.crossattention.c_attn.bias', 'transformer.h.1.crossattention.c_attn.weight', 'transformer.h.1.crossattention.c_proj.bias', 'transformer.h.1.crossattention.c_proj.weight', 'transformer.h.1.crossattention.q_attn.bias', 'transformer.h.1.crossattention.q_attn.weight', 'transformer.h.1.ln_cross_attn.bias', 'transformer.h.1.ln_cross_attn.weight', 'transformer.h.10.crossattention.c_attn.bias', 'transformer.h.10.crossattention.c_attn.weight', 'transformer.h.10.crossattention.c_proj.bias', 'transformer.h.10.crossattention.c_proj.weight', 'transformer.h.10.crossattention.q_attn.bias', 'transformer.h.10.crossattention.q_attn.weight', 'transformer.h.10.ln_cross_attn.bias', 'transformer.h.10.ln_cross_attn.weight', 'transformer.h.11.crossattention.c_attn.bias', 'transformer.h.11.crossattention.c_attn.weight', 'transformer.h.11.crossattention.c_proj.bias', 'transformer.h.11.crossattention.c_proj.weight', 'transformer.h.11.crossattention.q_attn.bias', 'transformer.h.11.crossattention.q_attn.weight', 'transformer.h.11.ln_cross_attn.bias', 'transformer.h.11.ln_cross_attn.weight', 'transformer.h.2.crossattention.c_attn.bias', 'transformer.h.2.crossattention.c_attn.weight', 'transformer.h.2.crossattention.c_proj.bias', 'transformer.h.2.crossattention.c_proj.weight', 'transformer.h.2.crossattention.q_attn.bias', 'transformer.h.2.crossattention.q_attn.weight', 'transformer.h.2.ln_cross_attn.bias', 'transformer.h.2.ln_cross_attn.weight', 'transformer.h.3.crossattention.c_attn.bias', 'transformer.h.3.crossattention.c_attn.weight', 'transformer.h.3.crossattention.c_proj.bias', 'transformer.h.3.crossattention.c_proj.weight', 'transformer.h.3.crossattention.q_attn.bias', 'transformer.h.3.crossattention.q_attn.weight', 'transformer.h.3.ln_cross_attn.bias', 'transformer.h.3.ln_cross_attn.weight', 'transformer.h.4.crossattention.c_attn.bias', 'transformer.h.4.crossattention.c_attn.weight', 'transformer.h.4.crossattention.c_proj.bias', 'transformer.h.4.crossattention.c_proj.weight', 'transformer.h.4.crossattention.q_attn.bias', 'transformer.h.4.crossattention.q_attn.weight', 'transformer.h.4.ln_cross_attn.bias', 'transformer.h.4.ln_cross_attn.weight', 'transformer.h.5.crossattention.c_attn.bias', 'transformer.h.5.crossattention.c_attn.weight', 'transformer.h.5.crossattention.c_proj.bias', 'transformer.h.5.crossattention.c_proj.weight', 'transformer.h.5.crossattention.q_attn.bias', 'transformer.h.5.crossattention.q_attn.weight', 'transformer.h.5.ln_cross_attn.bias', 'transformer.h.5.ln_cross_attn.weight', 'transformer.h.6.crossattention.c_attn.bias', 'transformer.h.6.crossattention.c_attn.weight', 'transformer.h.6.crossattention.c_proj.bias', 'transformer.h.6.crossattention.c_proj.weight', 'transformer.h.6.crossattention.q_attn.bias', 'transformer.h.6.crossattention.q_attn.weight', 'transformer.h.6.ln_cross_attn.bias', 'transformer.h.6.ln_cross_attn.weight', 'transformer.h.7.crossattention.c_attn.bias', 'transformer.h.7.crossattention.c_attn.weight', 'transformer.h.7.crossattention.c_proj.bias', 'transformer.h.7.crossattention.c_proj.weight', 'transformer.h.7.crossattention.q_attn.bias', 'transformer.h.7.crossattention.q_attn.weight', 'transformer.h.7.ln_cross_attn.bias', 'transformer.h.7.ln_cross_attn.weight', 'transformer.h.8.crossattention.c_attn.bias', 'transformer.h.8.crossattention.c_attn.weight', 'transformer.h.8.crossattention.c_proj.bias', 'transformer.h.8.crossattention.c_proj.weight', 'transformer.h.8.crossattention.q_attn.bias', 'transformer.h.8.crossattention.q_attn.weight', 'transformer.h.8.ln_cross_attn.bias', 'transformer.h.8.ln_cross_attn.weight', 'transformer.h.9.crossattention.c_attn.bias', 'transformer.h.9.crossattention.c_attn.weight', 'transformer.h.9.crossattention.c_proj.bias', 'transformer.h.9.crossattention.c_proj.weight', 'transformer.h.9.crossattention.q_attn.bias', 'transformer.h.9.crossattention.q_attn.weight', 'transformer.h.9.ln_cross_attn.bias', 'transformer.h.9.ln_cross_attn.weight']\n",
      "You should probably TRAIN this model on a down-stream task to be able to use it for predictions and inference.\n"
     ]
    },
    {
     "data": {
      "text/plain": [
       "GPT2LMHeadModel(\n",
       "  (transformer): GPT2Model(\n",
       "    (wte): Embedding(50257, 768)\n",
       "    (wpe): Embedding(1024, 768)\n",
       "    (drop): Dropout(p=0.1, inplace=False)\n",
       "    (h): ModuleList(\n",
       "      (0-11): 12 x GPT2Block(\n",
       "        (ln_1): LayerNorm((768,), eps=1e-05, elementwise_affine=True)\n",
       "        (attn): GPT2Attention(\n",
       "          (c_attn): Conv1D(nf=2304, nx=768)\n",
       "          (c_proj): Conv1D(nf=768, nx=768)\n",
       "          (attn_dropout): Dropout(p=0.1, inplace=False)\n",
       "          (resid_dropout): Dropout(p=0.1, inplace=False)\n",
       "        )\n",
       "        (ln_2): LayerNorm((768,), eps=1e-05, elementwise_affine=True)\n",
       "        (crossattention): GPT2Attention(\n",
       "          (c_attn): Conv1D(nf=1536, nx=768)\n",
       "          (q_attn): Conv1D(nf=768, nx=768)\n",
       "          (c_proj): Conv1D(nf=768, nx=768)\n",
       "          (attn_dropout): Dropout(p=0.1, inplace=False)\n",
       "          (resid_dropout): Dropout(p=0.1, inplace=False)\n",
       "        )\n",
       "        (ln_cross_attn): LayerNorm((768,), eps=1e-05, elementwise_affine=True)\n",
       "        (mlp): GPT2MLP(\n",
       "          (c_fc): Conv1D(nf=3072, nx=768)\n",
       "          (c_proj): Conv1D(nf=768, nx=3072)\n",
       "          (act): NewGELUActivation()\n",
       "          (dropout): Dropout(p=0.1, inplace=False)\n",
       "        )\n",
       "      )\n",
       "    )\n",
       "    (ln_f): LayerNorm((768,), eps=1e-05, elementwise_affine=True)\n",
       "  )\n",
       "  (lm_head): Linear(in_features=768, out_features=50257, bias=False)\n",
       ")"
      ]
     },
     "execution_count": 3,
     "metadata": {},
     "output_type": "execute_result"
    }
   ],
   "source": [
    "from transformers import GPT2Tokenizer, GPT2LMHeadModel,GPT2Config\n",
    "\n",
    "gptconfig = GPT2Config.from_pretrained(\"gpt2\",add_cross_attention=True)\n",
    "tokenizer = GPT2Tokenizer.from_pretrained(\"gpt2\")\n",
    "tokenizer.pad_token = tokenizer.eos_token  # GPT-2 doesn't have a pad token\n",
    "#tokenizer.add_special_tokens({\"bos_token\":\"<s>\",\"eos_token\":\"</s>\"})\n",
    "gpt2 = GPT2LMHeadModel.from_pretrained(\"gpt2\",config=gptconfig)\n",
    "gpt2.to(device)"
   ]
  },
  {
   "cell_type": "code",
   "execution_count": 4,
   "id": "e3ca3930",
   "metadata": {},
   "outputs": [
    {
     "name": "stdout",
     "output_type": "stream",
     "text": [
      "file_name       g0yUlOaqL6k\n",
      "landmarks    g0yUlOaqL6k.h5\n",
      "frames                 2026\n",
      "sentences                24\n",
      "Name: 121, dtype: object\n"
     ]
    },
    {
     "data": {
      "text/html": [
       "<div>\n",
       "<style scoped>\n",
       "    .dataframe tbody tr th:only-of-type {\n",
       "        vertical-align: middle;\n",
       "    }\n",
       "\n",
       "    .dataframe tbody tr th {\n",
       "        vertical-align: top;\n",
       "    }\n",
       "\n",
       "    .dataframe thead th {\n",
       "        text-align: right;\n",
       "    }\n",
       "</style>\n",
       "<table border=\"1\" class=\"dataframe\">\n",
       "  <thead>\n",
       "    <tr style=\"text-align: right;\">\n",
       "      <th></th>\n",
       "      <th>file_name</th>\n",
       "      <th>landmarks</th>\n",
       "      <th>frames</th>\n",
       "      <th>sentences</th>\n",
       "    </tr>\n",
       "  </thead>\n",
       "  <tbody>\n",
       "    <tr>\n",
       "      <th>0</th>\n",
       "      <td>FzmL8SL6Bow</td>\n",
       "      <td>FzmL8SL6Bow.h5</td>\n",
       "      <td>1196</td>\n",
       "      <td>4</td>\n",
       "    </tr>\n",
       "    <tr>\n",
       "      <th>1</th>\n",
       "      <td>FZrU_mEryAs</td>\n",
       "      <td>FZrU_mEryAs.h5</td>\n",
       "      <td>1213</td>\n",
       "      <td>7</td>\n",
       "    </tr>\n",
       "    <tr>\n",
       "      <th>2</th>\n",
       "      <td>-g45vqccdzI</td>\n",
       "      <td>-g45vqccdzI.h5</td>\n",
       "      <td>1332</td>\n",
       "      <td>10</td>\n",
       "    </tr>\n",
       "    <tr>\n",
       "      <th>3</th>\n",
       "      <td>FzUdcaxw_vs</td>\n",
       "      <td>FzUdcaxw_vs.h5</td>\n",
       "      <td>1826</td>\n",
       "      <td>19</td>\n",
       "    </tr>\n",
       "    <tr>\n",
       "      <th>4</th>\n",
       "      <td>-g0iPSnQt6w</td>\n",
       "      <td>-g0iPSnQt6w.h5</td>\n",
       "      <td>1657</td>\n",
       "      <td>17</td>\n",
       "    </tr>\n",
       "  </tbody>\n",
       "</table>\n",
       "</div>"
      ],
      "text/plain": [
       "     file_name       landmarks  frames  sentences\n",
       "0  FzmL8SL6Bow  FzmL8SL6Bow.h5    1196          4\n",
       "1  FZrU_mEryAs  FZrU_mEryAs.h5    1213          7\n",
       "2  -g45vqccdzI  -g45vqccdzI.h5    1332         10\n",
       "3  FzUdcaxw_vs  FzUdcaxw_vs.h5    1826         19\n",
       "4  -g0iPSnQt6w  -g0iPSnQt6w.h5    1657         17"
      ]
     },
     "execution_count": 4,
     "metadata": {},
     "output_type": "execute_result"
    }
   ],
   "source": [
    "df=pd.read_csv(\"how2sign.csv\",sep=\"\\t\")\n",
    "df.tail()\n",
    "asl_df=pd.read_csv(\"ASLens-landmarks.csv\")\n",
    "print(asl_df.iloc[121])\n",
    "asl_df.drop(121,inplace=True)\n",
    "asl_df.index = np.arange(0,len(asl_df))\n",
    "#asl_df.drop(\"Unnamed: 0\", axis=1, inplace=True)\n",
    "asl_df.head()"
   ]
  },
  {
   "cell_type": "code",
   "execution_count": 5,
   "id": "f3aebe6c",
   "metadata": {},
   "outputs": [],
   "source": [
    "class ASLensDataset(Dataset):\n",
    "  def __init__(self, df, asl_df, tokenizer=None, seq_len=128):\n",
    "    self.tokenizer=tokenizer\n",
    "    self.df=df\n",
    "    self.asl_df=asl_df\n",
    "    self.seq_len=seq_len\n",
    "  def __len__(self):\n",
    "    return self.asl_df['sentences'].sum()\n",
    "\n",
    "  def extract_number(self,sentence_id):\n",
    "    # Extract the numeric part after the last underscore\n",
    "    match = re.search(r'_(\\d+)$', sentence_id)\n",
    "    return int(match.group(1)) if match else 0\n",
    "\n",
    "  def extractFrames(self,ex,index):\n",
    "    fName=self.asl_df[\"landmarks\"][index]\n",
    "    file=h5py.File(f\"landmarks/{fName}\")\n",
    "    start_frame=int(ex[\"START_REALIGNED\"]*15)\n",
    "    end_frame=int(ex[\"END_REALIGNED\"]*15)\n",
    "    hand_left=file[\"handLeft\"][start_frame:end_frame]\n",
    "    # print(self.asl_df[\"frames\"][index])\n",
    "    # print(start_frame,end_frame)\n",
    "    hand_right=file[\"handRight\"][start_frame:end_frame]\n",
    "    face_lips=file[\"faceLips\"][start_frame:end_frame]\n",
    "    face_oval=file[\"faceOval\"][start_frame:end_frame]\n",
    "    file.close()\n",
    "    #x = self.text[idx:idx + self.seq_len]\n",
    "    x=np.concatenate([hand_left,hand_right,face_lips,face_oval],axis=1)\n",
    "    return torch.tensor(x)\n",
    "  def __getitem__ (self, idx):\n",
    "    index=0\n",
    "    while idx>self.asl_df['sentences'][index]-1:\n",
    "      idx-=self.asl_df['sentences'][index]\n",
    "      index+=1\n",
    "    file_name=self.asl_df[\"file_name\"][index]\n",
    "\n",
    "    if file_name[-1]==\"-\":\n",
    "\n",
    "      file_name=file_name[:-1]\n",
    "    sent=df[df['VIDEO_ID']==file_name]\n",
    "    sent = sent.copy()  # Explicit copy\n",
    "    sent['SENTENCE_NUM'] = sent['SENTENCE_ID'].apply(self.extract_number)\n",
    "    sent = sent.sort_values([\"VIDEO_NAME\",\"SENTENCE_NUM\"])\n",
    "\n",
    "    if len(sent[sent.duplicated(\"SENTENCE_ID\")])>0:\n",
    "      first = sent.drop_duplicates(subset=\"SENTENCE_NUM\",keep=\"first\")\n",
    "      last = sent.drop_duplicates(subset=\"SENTENCE_NUM\",keep=\"last\")\n",
    "      numOfFrames=self.asl_df[\"frames\"][index]\n",
    "      if numOfFrames>first[\"END_REALIGNED\"].max()*15:\n",
    "        sent = first\n",
    "      else:\n",
    "        sent = last\n",
    "    #print(sent)\n",
    "    ex=sent.iloc[idx]\n",
    "\n",
    "    frames=self.extractFrames(ex,index)\n",
    "    frames=frames.type(torch.float32)\n",
    "    text=ex[\"SENTENCE\"]+tokenizer.eos_token\n",
    "    \n",
    "    if self.tokenizer:\n",
    "        inputs = self.tokenizer(text[:int(len(text)*0.33)], return_tensors=\"pt\", padding=\"max_length\", max_length=20, truncation=True,add_special_tokens=True)\n",
    "        labels = self.tokenizer(text[int(len(text)*0.33):], return_tensors=\"pt\", padding=\"max_length\", max_length=20, truncation=True).input_ids\n",
    "    return frames, text[:int(len(text)*0.33)], text[int(len(text)*0.33):]\n",
    "\n"
   ]
  },
  {
   "cell_type": "code",
   "execution_count": 6,
   "id": "b8ba9d74",
   "metadata": {},
   "outputs": [],
   "source": [
    "test_size = 0.15\n",
    "test_df = asl_df.iloc[int(len(asl_df)*(1-test_size)):]\n",
    "test_df.index = np.arange(0,len(test_df))"
   ]
  },
  {
   "cell_type": "code",
   "execution_count": 7,
   "id": "3e592720",
   "metadata": {},
   "outputs": [],
   "source": [
    "test_asl_dataset = ASLensDataset(df,test_df,tokenizer=None)\n",
    "test_loader = DataLoader(test_asl_dataset, batch_size=1, shuffle=False)"
   ]
  },
  {
   "cell_type": "code",
   "execution_count": 8,
   "id": "ae0063a1",
   "metadata": {},
   "outputs": [],
   "source": [
    "@dataclass\n",
    "class ModelConfig:\n",
    "    hidden_size: int\n",
    "    num_layers: int\n",
    "    dropout_rate:  float =0.1\n",
    "    learning_rate:float= 0.001 "
   ]
  },
  {
   "cell_type": "code",
   "execution_count": 9,
   "id": "a0a663d4",
   "metadata": {},
   "outputs": [],
   "source": [
    "\n",
    "class ASLensEncoder(nn.Module):\n",
    "  def __init__(self,config):\n",
    "    super(ASLensEncoder,self).__init__()\n",
    "    self.config=config\n",
    "    self.conv1 = nn.Sequential(\n",
    "        #nn.Conv2d(1,16,kernel_size=(3,1),padding=(1,0)),\n",
    "        #nn.ReLU(),\n",
    "\n",
    "       # nn.MaxPool2d(kernel_size=(2,2)),\n",
    "        #nn.Conv2d(16,32,kernel_size=(2,1),padding=(1,0)),\n",
    "       # nn.ReLU(),\n",
    "        #nn.Conv2d(64,128,kernel_size=(3,3)),\n",
    "        #nn.ReLU(),\n",
    "        #nn.Flatten()\n",
    "      nn.Conv1d(3, 16, kernel_size=3, padding=1),  # preserves (90, 3)\n",
    "      nn.ReLU(),\n",
    "      nn.Conv1d(16, 32, kernel_size=2,padding=1),                 # reduces width\n",
    "      nn.ReLU(),\n",
    "      nn.Conv1d(32, 64, kernel_size=2,padding=1),                 # reduces width\n",
    "      nn.ReLU(),\n",
    "      #nn.AdaptiveAvgPool2d((45, 3))\n",
    "        #nn.Conv3d(128,64,kernel_size=(3,3,1)),\n",
    "        #nn.ReLU(),\n",
    "        )\n",
    "    self.lstm= nn.LSTM(input_size=98,\n",
    "                       hidden_size=self.config.hidden_size,\n",
    "                       num_layers=config.num_layers,\n",
    "                       dropout=config.dropout_rate,\n",
    "                       batch_first=True)\n",
    "\n",
    "\n",
    "  def forward(self,x):\n",
    "    #x = x.permute(0, 3, 1, 2)  # [32, 3, 100, 90]\n",
    "    #x = x.unsqueeze(-1)\n",
    "    time = x.shape[2]\n",
    "    x=x.view(-1, 98,3)\n",
    "    x=x.permute(1,2, 0)\n",
    "    out = self.conv1(x)\n",
    "    #out,_ = torch.max(out,2)\n",
    "    #out = out.view(out.shape[0],-1)\n",
    "   # return out\n",
    "    out=out.reshape(1, -1, 98).contiguous()\n",
    "    out,hidden = self.lstm(out)\n",
    "    return out,hidden"
   ]
  },
  {
   "cell_type": "code",
   "execution_count": 10,
   "id": "5acb4c96",
   "metadata": {},
   "outputs": [
    {
     "data": {
      "text/plain": [
       "ASLensEncoder(\n",
       "  (conv1): Sequential(\n",
       "    (0): Conv1d(3, 16, kernel_size=(3,), stride=(1,), padding=(1,))\n",
       "    (1): ReLU()\n",
       "    (2): Conv1d(16, 32, kernel_size=(2,), stride=(1,), padding=(1,))\n",
       "    (3): ReLU()\n",
       "    (4): Conv1d(32, 64, kernel_size=(2,), stride=(1,), padding=(1,))\n",
       "    (5): ReLU()\n",
       "  )\n",
       "  (lstm): LSTM(98, 128, num_layers=2, batch_first=True, dropout=0.2)\n",
       ")"
      ]
     },
     "execution_count": 10,
     "metadata": {},
     "output_type": "execute_result"
    }
   ],
   "source": [
    "config = ModelConfig(hidden_size=128,num_layers=2,dropout_rate=0.2)\n",
    "encoder = ASLensEncoder(config)\n",
    "encoder.to(device)"
   ]
  },
  {
   "cell_type": "code",
   "execution_count": 11,
   "id": "54519066",
   "metadata": {},
   "outputs": [],
   "source": [
    "class GPT2ConditionedOnEncoder(nn.Module):\n",
    "    def __init__(self, encoder, hidden_size=768):\n",
    "        super().__init__()\n",
    "        self.encoder = encoder\n",
    "        self.gpt2 = GPT2LMHeadModel.from_pretrained(\"gpt2\",config=gptconfig)\n",
    "        self.gpt2.resize_token_embeddings(self.gpt2.config.vocab_size + 2)  # in case of custom tokenizer\n",
    "        self.projection = nn.Linear(hidden_size, self.gpt2.config.n_embd)\n",
    "\n",
    "    def forward(self, landmarks, input_ids, attention_mask,labels=None,proj=False):\n",
    "        # frames: [1, seq_len, 98, 3] or similar\n",
    "        #if proj == False:\n",
    "        encoder_output, (h_n, _) = self.encoder(landmarks)  # h_n: [num_layers, 1, hidden_size]\n",
    "        h_n = h_n[-1]  # use top layer [1, hidden_size]\n",
    "        projected = self.projection(h_n)  # [1, emb_dim]\n",
    "        projected = projected.unsqueeze(1)  # [1, 1, emb_dim]\n",
    "       # else:\n",
    "         # projected=landmarks\n",
    "        # Get input embeddings\n",
    "        #input_embeds = self.gpt2.transformer.wte(input_ids)  # [1, seq_len, emb_dim]\n",
    "        #input_embeds = torch.cat([projected, input_embeds], dim=1)  # [1, seq_len+1, emb_dim]\n",
    "       # attention_mask = torch.cat([\n",
    "       #     torch.ones((input_ids.size(0), 1), dtype=torch.long, device=input_ids.device),\n",
    "        #    attention_mask\n",
    "       # ], dim=1)\n",
    "        # Assume labels: [batch, seq_len]\n",
    "        #if labels is not None:\n",
    "        #  ignore_label = torch.full((labels.size(0),1), -100, dtype=labels.dtype, device=labels.device)\n",
    "        #  labels = torch.cat([ignore_label, labels], dim=1)\n",
    "        #print(torch.isnan(encoder_output).any())\n",
    "        outputs = self.gpt2(input_ids=input_ids, encoder_hidden_state=encoder_output, labels=labels)\n",
    "        return outputs.logits,outputs.loss,projected"
   ]
  },
  {
   "cell_type": "code",
   "execution_count": 12,
   "id": "a44916a4",
   "metadata": {},
   "outputs": [
    {
     "name": "stderr",
     "output_type": "stream",
     "text": [
      "Some weights of GPT2LMHeadModel were not initialized from the model checkpoint at gpt2 and are newly initialized: ['transformer.h.0.crossattention.c_attn.bias', 'transformer.h.0.crossattention.c_attn.weight', 'transformer.h.0.crossattention.c_proj.bias', 'transformer.h.0.crossattention.c_proj.weight', 'transformer.h.0.crossattention.q_attn.bias', 'transformer.h.0.crossattention.q_attn.weight', 'transformer.h.0.ln_cross_attn.bias', 'transformer.h.0.ln_cross_attn.weight', 'transformer.h.1.crossattention.c_attn.bias', 'transformer.h.1.crossattention.c_attn.weight', 'transformer.h.1.crossattention.c_proj.bias', 'transformer.h.1.crossattention.c_proj.weight', 'transformer.h.1.crossattention.q_attn.bias', 'transformer.h.1.crossattention.q_attn.weight', 'transformer.h.1.ln_cross_attn.bias', 'transformer.h.1.ln_cross_attn.weight', 'transformer.h.10.crossattention.c_attn.bias', 'transformer.h.10.crossattention.c_attn.weight', 'transformer.h.10.crossattention.c_proj.bias', 'transformer.h.10.crossattention.c_proj.weight', 'transformer.h.10.crossattention.q_attn.bias', 'transformer.h.10.crossattention.q_attn.weight', 'transformer.h.10.ln_cross_attn.bias', 'transformer.h.10.ln_cross_attn.weight', 'transformer.h.11.crossattention.c_attn.bias', 'transformer.h.11.crossattention.c_attn.weight', 'transformer.h.11.crossattention.c_proj.bias', 'transformer.h.11.crossattention.c_proj.weight', 'transformer.h.11.crossattention.q_attn.bias', 'transformer.h.11.crossattention.q_attn.weight', 'transformer.h.11.ln_cross_attn.bias', 'transformer.h.11.ln_cross_attn.weight', 'transformer.h.2.crossattention.c_attn.bias', 'transformer.h.2.crossattention.c_attn.weight', 'transformer.h.2.crossattention.c_proj.bias', 'transformer.h.2.crossattention.c_proj.weight', 'transformer.h.2.crossattention.q_attn.bias', 'transformer.h.2.crossattention.q_attn.weight', 'transformer.h.2.ln_cross_attn.bias', 'transformer.h.2.ln_cross_attn.weight', 'transformer.h.3.crossattention.c_attn.bias', 'transformer.h.3.crossattention.c_attn.weight', 'transformer.h.3.crossattention.c_proj.bias', 'transformer.h.3.crossattention.c_proj.weight', 'transformer.h.3.crossattention.q_attn.bias', 'transformer.h.3.crossattention.q_attn.weight', 'transformer.h.3.ln_cross_attn.bias', 'transformer.h.3.ln_cross_attn.weight', 'transformer.h.4.crossattention.c_attn.bias', 'transformer.h.4.crossattention.c_attn.weight', 'transformer.h.4.crossattention.c_proj.bias', 'transformer.h.4.crossattention.c_proj.weight', 'transformer.h.4.crossattention.q_attn.bias', 'transformer.h.4.crossattention.q_attn.weight', 'transformer.h.4.ln_cross_attn.bias', 'transformer.h.4.ln_cross_attn.weight', 'transformer.h.5.crossattention.c_attn.bias', 'transformer.h.5.crossattention.c_attn.weight', 'transformer.h.5.crossattention.c_proj.bias', 'transformer.h.5.crossattention.c_proj.weight', 'transformer.h.5.crossattention.q_attn.bias', 'transformer.h.5.crossattention.q_attn.weight', 'transformer.h.5.ln_cross_attn.bias', 'transformer.h.5.ln_cross_attn.weight', 'transformer.h.6.crossattention.c_attn.bias', 'transformer.h.6.crossattention.c_attn.weight', 'transformer.h.6.crossattention.c_proj.bias', 'transformer.h.6.crossattention.c_proj.weight', 'transformer.h.6.crossattention.q_attn.bias', 'transformer.h.6.crossattention.q_attn.weight', 'transformer.h.6.ln_cross_attn.bias', 'transformer.h.6.ln_cross_attn.weight', 'transformer.h.7.crossattention.c_attn.bias', 'transformer.h.7.crossattention.c_attn.weight', 'transformer.h.7.crossattention.c_proj.bias', 'transformer.h.7.crossattention.c_proj.weight', 'transformer.h.7.crossattention.q_attn.bias', 'transformer.h.7.crossattention.q_attn.weight', 'transformer.h.7.ln_cross_attn.bias', 'transformer.h.7.ln_cross_attn.weight', 'transformer.h.8.crossattention.c_attn.bias', 'transformer.h.8.crossattention.c_attn.weight', 'transformer.h.8.crossattention.c_proj.bias', 'transformer.h.8.crossattention.c_proj.weight', 'transformer.h.8.crossattention.q_attn.bias', 'transformer.h.8.crossattention.q_attn.weight', 'transformer.h.8.ln_cross_attn.bias', 'transformer.h.8.ln_cross_attn.weight', 'transformer.h.9.crossattention.c_attn.bias', 'transformer.h.9.crossattention.c_attn.weight', 'transformer.h.9.crossattention.c_proj.bias', 'transformer.h.9.crossattention.c_proj.weight', 'transformer.h.9.crossattention.q_attn.bias', 'transformer.h.9.crossattention.q_attn.weight', 'transformer.h.9.ln_cross_attn.bias', 'transformer.h.9.ln_cross_attn.weight']\n",
      "You should probably TRAIN this model on a down-stream task to be able to use it for predictions and inference.\n",
      "The new embeddings will be initialized from a multivariate normal distribution that has old embeddings' mean and covariance. As described in this article: https://nlp.stanford.edu/~johnhew/vocab-expansion.html. To disable this, use `mean_resizing=False`\n"
     ]
    },
    {
     "name": "stdout",
     "output_type": "stream",
     "text": [
      "\n"
     ]
    },
    {
     "data": {
      "text/plain": [
       "<All keys matched successfully>"
      ]
     },
     "execution_count": 12,
     "metadata": {},
     "output_type": "execute_result"
    }
   ],
   "source": [
    "model = GPT2ConditionedOnEncoder(encoder,hidden_size=config.hidden_size)\n",
    "model.to(device)\n",
    "print()\n",
    "model.load_state_dict(torch.load('asl_lens_model_gpt2_checkpoint_hidden1.pt',map_location=device,weights_only=False)['model_state_dict'])"
   ]
  },
  {
   "cell_type": "code",
   "execution_count": 13,
   "id": "b8d3fdc7",
   "metadata": {},
   "outputs": [
    {
     "name": "stdout",
     "output_type": "stream",
     "text": [
      "Requirement already satisfied: jiwer in /opt/conda/lib/python3.10/site-packages (3.1.0)\n",
      "Requirement already satisfied: click>=8.1.8 in /opt/conda/lib/python3.10/site-packages (from jiwer) (8.2.1)\n",
      "Requirement already satisfied: rapidfuzz>=3.9.7 in /opt/conda/lib/python3.10/site-packages (from jiwer) (3.13.0)\n",
      "\u001b[33mWARNING: Running pip as the 'root' user can result in broken permissions and conflicting behaviour with the system package manager. It is recommended to use a virtual environment instead: https://pip.pypa.io/warnings/venv\u001b[0m\u001b[33m\n",
      "\u001b[0m"
     ]
    }
   ],
   "source": [
    "!pip install jiwer"
   ]
  },
  {
   "cell_type": "code",
   "execution_count": 14,
   "id": "b8af8735",
   "metadata": {},
   "outputs": [
    {
     "name": "stderr",
     "output_type": "stream",
     "text": [
      "[nltk_data] Downloading package wordnet to /root/nltk_data...\n",
      "[nltk_data]   Package wordnet is already up-to-date!\n",
      "[nltk_data] Downloading package omw-1.4 to /root/nltk_data...\n",
      "[nltk_data]   Package omw-1.4 is already up-to-date!\n"
     ]
    }
   ],
   "source": [
    "import nltk\n",
    "from nltk.translate.bleu_score import sentence_bleu, SmoothingFunction\n",
    "from nltk.translate.meteor_score import meteor_score\n",
    "from mosestokenizer import MosesTokenizer\n",
    "from mosestokenizer import MosesDetokenizer\n",
    "import subprocess\n",
    "import tempfile\n",
    "import os\n",
    "from rouge_score import rouge_scorer\n",
    "from jiwer import wer  # Install with: pip install jiwer\n",
    "\n",
    "# Download NLTK data (run once)\n",
    "nltk.download('wordnet')\n",
    "nltk.download('omw-1.4')\n",
    "\n",
    "def compute_metrics(reference, hypothesis):\n",
    "    # Tokenize sentences\n",
    "    tokenize = MosesTokenizer('en')\n",
    "    detokenize = MosesDetokenizer('en')\n",
    "    \n",
    "    ref_tokens = tokenize(reference)\n",
    "    hyp_tokens = tokenize(hypothesis)\n",
    "    \n",
    "    # Compute BLEU (with smoothing)\n",
    "    smoothing = SmoothingFunction().method1\n",
    "    bleu_score = sentence_bleu(\n",
    "        [ref_tokens],\n",
    "        hyp_tokens,\n",
    "        smoothing_function=smoothing\n",
    "    )\n",
    "    \n",
    "    # Compute METEOR\n",
    "    meteor_score_val = meteor_score(\n",
    "        [ref_tokens],\n",
    "        hyp_tokens\n",
    "    )\n",
    "    scorer = rouge_scorer.RougeScorer(['rouge1', 'rouge2', 'rougeL'], use_stemmer=True)\n",
    "    rouge_scores = scorer.score(reference, hypothesis)\n",
    "    \n",
    "    return {\n",
    "        \"BLEU\": bleu_score,\n",
    "        \"METEOR\": meteor_score_val,\n",
    "        \"ROUGE-1\": rouge_scores['rouge1'].fmeasure,\n",
    "        \"ROUGE-2\": rouge_scores['rouge2'].fmeasure,\n",
    "        \"ROUGE-L\": rouge_scores['rougeL'].fmeasure,\n",
    "        \"WER\": wer(reference, hypothesis)\n",
    "    }"
   ]
  },
  {
   "cell_type": "code",
   "execution_count": 15,
   "id": "27e2a968",
   "metadata": {},
   "outputs": [],
   "source": [
    "tokenizer.pad_token = tokenizer.eos_token  # Set pad token to eos token"
   ]
  },
  {
   "cell_type": "code",
   "execution_count": 16,
   "id": "19e566f5",
   "metadata": {},
   "outputs": [],
   "source": [
    "metrics=[]\n",
    "for i in range(len(test_asl_dataset)):\n",
    "    data, x, y = test_asl_dataset.__getitem__(i)\n",
    "    data = data.to(device)  # Move data to device first\n",
    "    \n",
    "    decoded_text = x\n",
    "    for i in range(len(y)):\n",
    "        inputs = tokenizer(decoded_text, return_tensors=\"pt\").to(device)\n",
    "        input_ids = inputs.input_ids.to(device)\n",
    "        mask = inputs.attention_mask.to(device)\n",
    "        \n",
    "        # All operations now on device\n",
    "        encoder_output, (h_n, _) = model.encoder(data)  # data is already on device\n",
    "        h_n = h_n[-1]\n",
    "        projected = model.projection(h_n)  # No need to move to device again\n",
    "        projected = projected.unsqueeze(1)\n",
    "        \n",
    "        # Ensure all inputs are on same device\n",
    "        t = gpt2.generate(\n",
    "            input_ids=input_ids,\n",
    "            attention_mask=mask,\n",
    "            pad_token_id=tokenizer.pad_token_id,\n",
    "            encoder_hidden_states=projected,\n",
    "            max_length=input_ids.shape[1]+1\n",
    "        )\n",
    "        \n",
    "        decoded_text = tokenizer.decode(t[0], skip_special_tokens=True)\n",
    "    \n",
    "    metrics.append(compute_metrics(y, decoded_text.replace(\"\\n\", \"\")))"
   ]
  },
  {
   "cell_type": "code",
   "execution_count": 19,
   "id": "5d897c75",
   "metadata": {},
   "outputs": [],
   "source": [
    "b={'BLEU': 0.,\n",
    "  'METEOR': 0.,\n",
    "  'ROUGE-1': 0.,\n",
    "  'ROUGE-2': 0.0,\n",
    "  'ROUGE-L': 0.,\n",
    "  'WER': 0.}\n",
    "for k in metrics:\n",
    "    b[\"BLEU\"]+=k[\"BLEU\"]\n",
    "    b[\"METEOR\"]+=k[\"METEOR\"]\n",
    "    b[\"ROUGE-1\"]+=k[\"ROUGE-1\"]\n",
    "    b[\"ROUGE-2\"]+=k[\"ROUGE-2\"]\n",
    "    b[\"ROUGE-L\"]+=k[\"ROUGE-L\"]\n",
    "    b[\"WER\"]+=k[\"WER\"]\n"
   ]
  },
  {
   "cell_type": "code",
   "execution_count": 20,
   "id": "3e2bdd58",
   "metadata": {},
   "outputs": [],
   "source": [
    "b[\"BLEU\"]/=len(test_asl_dataset)\n",
    "b[\"METEOR\"]/=len(test_asl_dataset)\n",
    "b[\"ROUGE-1\"]/=len(test_asl_dataset)\n",
    "b[\"ROUGE-2\"]/=len(test_asl_dataset)\n",
    "b[\"ROUGE-L\"]/=len(test_asl_dataset)\n",
    "b[\"WER\"]/=len(test_asl_dataset)"
   ]
  },
  {
   "cell_type": "code",
   "execution_count": 25,
   "id": "19d1feea",
   "metadata": {},
   "outputs": [
    {
     "data": {
      "text/plain": [
       "<Axes: >"
      ]
     },
     "execution_count": 25,
     "metadata": {},
     "output_type": "execute_result"
    },
    {
     "data": {
      "image/png": "[encoded data removed]",
      "text/plain": [
       "<Figure size 640x480 with 1 Axes>"
      ]
     },
     "metadata": {},
     "output_type": "display_data"
    }
   ],
   "source": [
    "import seaborn as sns\n",
    "sns.barplot(x=[1,2],y=[0.01168,0.01389])"
   ]
  },
  {
   "cell_type": "code",
   "execution_count": null,
   "id": "c1c880d8",
   "metadata": {},
   "outputs": [],
   "source": []
  }
 ],
 "metadata": {
  "kernelspec": {
   "display_name": "Python 3 (ipykernel)",
   "language": "python",
   "name": "python3"
  },
  "language_info": {
   "codemirror_mode": {
    "name": "ipython",
    "version": 3
   },
   "file_extension": ".py",
   "mimetype": "text/x-python",
   "name": "python",
   "nbconvert_exporter": "python",
   "pygments_lexer": "ipython3",
   "version": "3.10.13"
  }
 },
 "nbformat": 4,
 "nbformat_minor": 5
}
