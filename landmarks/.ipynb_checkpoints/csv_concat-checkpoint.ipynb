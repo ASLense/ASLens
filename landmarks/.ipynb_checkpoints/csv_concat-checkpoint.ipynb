{
 "cells": [
  {
   "cell_type": "code",
   "execution_count": 1,
   "id": "2caaa22e",
   "metadata": {},
   "outputs": [],
   "source": [
    "import pandas as pd\n",
    "import numpy as np"
   ]
  },
  {
   "cell_type": "code",
   "execution_count": 51,
   "id": "f34ede7e",
   "metadata": {},
   "outputs": [],
   "source": [
    "df1=pd.read_csv(\"AslLens-dataset_1.csv\")"
   ]
  },
  {
   "cell_type": "code",
   "execution_count": 52,
   "id": "83d53392",
   "metadata": {},
   "outputs": [],
   "source": [
    "df2=pd.read_csv(\"ASLens-dataset_2.csv\")"
   ]
  },
  {
   "cell_type": "code",
   "execution_count": 53,
   "id": "fa8616f3",
   "metadata": {},
   "outputs": [],
   "source": [
    "df3=pd.read_csv(\"ASLens-dataset_3.csv\")"
   ]
  },
  {
   "cell_type": "code",
   "execution_count": 54,
   "id": "6fff10df",
   "metadata": {},
   "outputs": [],
   "source": [
    "df4_1=pd.read_csv(\"ASLens-dataset_4_1.csv\")\n",
    "df4_2=pd.read_csv(\"ASLens-dataset_4_2.csv\")\n",
    "df4_3=pd.read_csv(\"ASLens-dataset_4_3.csv\")\n",
    "df4_4=pd.read_csv(\"ASLens-dataset_4_4.csv\")"
   ]
  },
  {
   "cell_type": "code",
   "execution_count": 55,
   "id": "1033d88c",
   "metadata": {},
   "outputs": [],
   "source": [
    "df5=pd.read_csv(\"ASLens-dataset_5.csv\")"
   ]
  },
  {
   "cell_type": "code",
   "execution_count": 56,
   "id": "a5316f01",
   "metadata": {},
   "outputs": [],
   "source": [
    "df6=pd.read_csv(\"ASLens-dataset_6.csv\")"
   ]
  },
  {
   "cell_type": "code",
   "execution_count": 57,
   "id": "5b77d6e7",
   "metadata": {},
   "outputs": [
    {
     "data": {
      "text/plain": [
       "182"
      ]
     },
     "execution_count": 57,
     "metadata": {},
     "output_type": "execute_result"
    }
   ],
   "source": [
    "len(df1)+len(df2)+len(df3)+len(df4_1)+len(df4_2)+len(df4_3)+len(df4_4)+len(df5)+len(df6)"
   ]
  },
  {
   "cell_type": "code",
   "execution_count": 58,
   "id": "3ec53c98",
   "metadata": {},
   "outputs": [],
   "source": [
    "full_df=pd.concat([df1,df2,df3,df4_1,df4_2,df4_3,df4_4,df5,df6], axis=0)\n",
    "full_df.index=np.arange(0,len(full_df))"
   ]
  },
  {
   "cell_type": "code",
   "execution_count": 59,
   "id": "47cbe688",
   "metadata": {},
   "outputs": [
    {
     "data": {
      "text/plain": [
       "182"
      ]
     },
     "execution_count": 59,
     "metadata": {},
     "output_type": "execute_result"
    }
   ],
   "source": [
    "len(full_df)"
   ]
  },
  {
   "cell_type": "code",
   "execution_count": 60,
   "id": "f6676ead",
   "metadata": {},
   "outputs": [
    {
     "data": {
      "text/html": [
       "<div>\n",
       "<style scoped>\n",
       "    .dataframe tbody tr th:only-of-type {\n",
       "        vertical-align: middle;\n",
       "    }\n",
       "\n",
       "    .dataframe tbody tr th {\n",
       "        vertical-align: top;\n",
       "    }\n",
       "\n",
       "    .dataframe thead th {\n",
       "        text-align: right;\n",
       "    }\n",
       "</style>\n",
       "<table border=\"1\" class=\"dataframe\">\n",
       "  <thead>\n",
       "    <tr style=\"text-align: right;\">\n",
       "      <th></th>\n",
       "      <th>Unnamed: 0</th>\n",
       "      <th>file_name</th>\n",
       "      <th>landmarks</th>\n",
       "    </tr>\n",
       "  </thead>\n",
       "  <tbody>\n",
       "    <tr>\n",
       "      <th>92</th>\n",
       "      <td>2</td>\n",
       "      <td>_g0fpC8aiME</td>\n",
       "      <td>_g0fpC8aiME.h5</td>\n",
       "    </tr>\n",
       "    <tr>\n",
       "      <th>102</th>\n",
       "      <td>5</td>\n",
       "      <td>fZIHe3dXPR0</td>\n",
       "      <td>fZIHe3dXPR0.h5</td>\n",
       "    </tr>\n",
       "    <tr>\n",
       "      <th>108</th>\n",
       "      <td>3</td>\n",
       "      <td>fZM3IcM2Xs4</td>\n",
       "      <td>fZM3IcM2Xs4.h5</td>\n",
       "    </tr>\n",
       "    <tr>\n",
       "      <th>113</th>\n",
       "      <td>0</td>\n",
       "      <td>f_zna_wG3zo</td>\n",
       "      <td>f_zna_wG3zo.h5</td>\n",
       "    </tr>\n",
       "    <tr>\n",
       "      <th>114</th>\n",
       "      <td>1</td>\n",
       "      <td>fzDHRCKr7wU</td>\n",
       "      <td>fzDHRCKr7wU.h5</td>\n",
       "    </tr>\n",
       "    <tr>\n",
       "      <th>117</th>\n",
       "      <td>4</td>\n",
       "      <td>fZq8wTAYtmw</td>\n",
       "      <td>fZq8wTAYtmw.h5</td>\n",
       "    </tr>\n",
       "    <tr>\n",
       "      <th>146</th>\n",
       "      <td>28</td>\n",
       "      <td>fzQ2E3_xBZA</td>\n",
       "      <td>fzQ2E3_xBZA.h5</td>\n",
       "    </tr>\n",
       "  </tbody>\n",
       "</table>\n",
       "</div>"
      ],
      "text/plain": [
       "     Unnamed: 0    file_name       landmarks\n",
       "92            2  _g0fpC8aiME  _g0fpC8aiME.h5\n",
       "102           5  fZIHe3dXPR0  fZIHe3dXPR0.h5\n",
       "108           3  fZM3IcM2Xs4  fZM3IcM2Xs4.h5\n",
       "113           0  f_zna_wG3zo  f_zna_wG3zo.h5\n",
       "114           1  fzDHRCKr7wU  fzDHRCKr7wU.h5\n",
       "117           4  fZq8wTAYtmw  fZq8wTAYtmw.h5\n",
       "146          28  fzQ2E3_xBZA  fzQ2E3_xBZA.h5"
      ]
     },
     "execution_count": 60,
     "metadata": {},
     "output_type": "execute_result"
    }
   ],
   "source": [
    "full_df[full_df[\"landmarks\"].duplicated()]"
   ]
  },
  {
   "cell_type": "code",
   "execution_count": 61,
   "id": "a061c554",
   "metadata": {},
   "outputs": [],
   "source": [
    "full_df=full_df[full_df[\"landmarks\"].duplicated()==False]\n",
    "full_df.drop(\"Unnamed: 0\",inplace=True,axis=1)\n",
    "full_df.index=np.arange(0,len(full_df))"
   ]
  },
  {
   "cell_type": "code",
   "execution_count": 67,
   "id": "1bdfde63",
   "metadata": {},
   "outputs": [
    {
     "data": {
      "text/html": [
       "<div>\n",
       "<style scoped>\n",
       "    .dataframe tbody tr th:only-of-type {\n",
       "        vertical-align: middle;\n",
       "    }\n",
       "\n",
       "    .dataframe tbody tr th {\n",
       "        vertical-align: top;\n",
       "    }\n",
       "\n",
       "    .dataframe thead th {\n",
       "        text-align: right;\n",
       "    }\n",
       "</style>\n",
       "<table border=\"1\" class=\"dataframe\">\n",
       "  <thead>\n",
       "    <tr style=\"text-align: right;\">\n",
       "      <th></th>\n",
       "      <th>file_name</th>\n",
       "      <th>landmarks</th>\n",
       "    </tr>\n",
       "  </thead>\n",
       "  <tbody>\n",
       "    <tr>\n",
       "      <th>0</th>\n",
       "      <td>FzmL8SL6Bow</td>\n",
       "      <td>FzmL8SL6Bow.h5</td>\n",
       "    </tr>\n",
       "    <tr>\n",
       "      <th>1</th>\n",
       "      <td>FZrU_mEryAs</td>\n",
       "      <td>FZrU_mEryAs.h5</td>\n",
       "    </tr>\n",
       "    <tr>\n",
       "      <th>2</th>\n",
       "      <td>-g45vqccdzI</td>\n",
       "      <td>-g45vqccdzI.h5</td>\n",
       "    </tr>\n",
       "    <tr>\n",
       "      <th>3</th>\n",
       "      <td>FzUdcaxw_vs</td>\n",
       "      <td>FzUdcaxw_vs.h5</td>\n",
       "    </tr>\n",
       "    <tr>\n",
       "      <th>4</th>\n",
       "      <td>-g0iPSnQt6w</td>\n",
       "      <td>-g0iPSnQt6w.h5</td>\n",
       "    </tr>\n",
       "    <tr>\n",
       "      <th>...</th>\n",
       "      <td>...</td>\n",
       "      <td>...</td>\n",
       "    </tr>\n",
       "    <tr>\n",
       "      <th>170</th>\n",
       "      <td>g2wUCRRni28</td>\n",
       "      <td>g2wUCRRni28.h5</td>\n",
       "    </tr>\n",
       "    <tr>\n",
       "      <th>171</th>\n",
       "      <td>g2QdwYqm8pg</td>\n",
       "      <td>g2QdwYqm8pg.h5</td>\n",
       "    </tr>\n",
       "    <tr>\n",
       "      <th>172</th>\n",
       "      <td>g2SdWBPoXZ0</td>\n",
       "      <td>g2SdWBPoXZ0.h5</td>\n",
       "    </tr>\n",
       "    <tr>\n",
       "      <th>173</th>\n",
       "      <td>g2ELiaFjKfs-</td>\n",
       "      <td>g2ELiaFjKfs-.h5</td>\n",
       "    </tr>\n",
       "    <tr>\n",
       "      <th>174</th>\n",
       "      <td>g2NA_eBUcH8</td>\n",
       "      <td>g2NA_eBUcH8.h5</td>\n",
       "    </tr>\n",
       "  </tbody>\n",
       "</table>\n",
       "<p>175 rows × 2 columns</p>\n",
       "</div>"
      ],
      "text/plain": [
       "        file_name        landmarks\n",
       "0     FzmL8SL6Bow   FzmL8SL6Bow.h5\n",
       "1     FZrU_mEryAs   FZrU_mEryAs.h5\n",
       "2     -g45vqccdzI   -g45vqccdzI.h5\n",
       "3     FzUdcaxw_vs   FzUdcaxw_vs.h5\n",
       "4     -g0iPSnQt6w   -g0iPSnQt6w.h5\n",
       "..            ...              ...\n",
       "170   g2wUCRRni28   g2wUCRRni28.h5\n",
       "171   g2QdwYqm8pg   g2QdwYqm8pg.h5\n",
       "172   g2SdWBPoXZ0   g2SdWBPoXZ0.h5\n",
       "173  g2ELiaFjKfs-  g2ELiaFjKfs-.h5\n",
       "174   g2NA_eBUcH8   g2NA_eBUcH8.h5\n",
       "\n",
       "[175 rows x 2 columns]"
      ]
     },
     "execution_count": 67,
     "metadata": {},
     "output_type": "execute_result"
    }
   ],
   "source": [
    "full_df"
   ]
  },
  {
   "cell_type": "code",
   "execution_count": 65,
   "id": "4455a527",
   "metadata": {},
   "outputs": [],
   "source": [
    "full_df.to_csv(\"ASLens-landmarks.csv\",index=False, encoding='utf-8')"
   ]
  },
  {
   "cell_type": "markdown",
   "id": "c8a3c5f0",
   "metadata": {},
   "source": [
    "# Add number of frames"
   ]
  },
  {
   "cell_type": "code",
   "execution_count": 73,
   "id": "cd53ade2",
   "metadata": {
    "scrolled": true
   },
   "outputs": [],
   "source": [
    "import pandas as pd\n",
    "import numpy as np\n",
    "import h5py\n",
    "df=pd.read_csv(\"ASLens-landmarks.csv\")"
   ]
  },
  {
   "cell_type": "code",
   "execution_count": 74,
   "id": "6ddd7f10",
   "metadata": {},
   "outputs": [],
   "source": []
  },
  {
   "cell_type": "code",
   "execution_count": 92,
   "id": "5528cc18",
   "metadata": {},
   "outputs": [
    {
     "name": "stdout",
     "output_type": "stream",
     "text": [
      "952\n"
     ]
    }
   ],
   "source": [
    "file_name=\"g2wUCRRni28.h5\"\n",
    "f = h5py.File(\"landmarks/\"+file_name, 'r')\n",
    "print(f['faceLips'].shape[0])\n",
    "f.close()\n"
   ]
  },
  {
   "cell_type": "code",
   "execution_count": 85,
   "id": "4cb9c2b2",
   "metadata": {},
   "outputs": [],
   "source": [
    "f.close()"
   ]
  },
  {
   "cell_type": "code",
   "execution_count": 88,
   "id": "bc06000f",
   "metadata": {},
   "outputs": [],
   "source": [
    "num_of_frames=[]\n",
    "for row in df[\"landmarks\"]:\n",
    "    f = h5py.File(\"landmarks/\"+row, 'r')\n",
    "    num_of_frames.append(f['faceLips'].shape[0])\n",
    "    f.close()"
   ]
  },
  {
   "cell_type": "code",
   "execution_count": 90,
   "id": "09a79150",
   "metadata": {},
   "outputs": [],
   "source": [
    "df[\"frames\"] = pd.Series(num_of_frames)"
   ]
  },
  {
   "cell_type": "code",
   "execution_count": 91,
   "id": "4952853b",
   "metadata": {},
   "outputs": [
    {
     "data": {
      "text/html": [
       "<div>\n",
       "<style scoped>\n",
       "    .dataframe tbody tr th:only-of-type {\n",
       "        vertical-align: middle;\n",
       "    }\n",
       "\n",
       "    .dataframe tbody tr th {\n",
       "        vertical-align: top;\n",
       "    }\n",
       "\n",
       "    .dataframe thead th {\n",
       "        text-align: right;\n",
       "    }\n",
       "</style>\n",
       "<table border=\"1\" class=\"dataframe\">\n",
       "  <thead>\n",
       "    <tr style=\"text-align: right;\">\n",
       "      <th></th>\n",
       "      <th>file_name</th>\n",
       "      <th>landmarks</th>\n",
       "      <th>frames</th>\n",
       "    </tr>\n",
       "  </thead>\n",
       "  <tbody>\n",
       "    <tr>\n",
       "      <th>0</th>\n",
       "      <td>FzmL8SL6Bow</td>\n",
       "      <td>FzmL8SL6Bow.h5</td>\n",
       "      <td>1196</td>\n",
       "    </tr>\n",
       "    <tr>\n",
       "      <th>1</th>\n",
       "      <td>FZrU_mEryAs</td>\n",
       "      <td>FZrU_mEryAs.h5</td>\n",
       "      <td>1213</td>\n",
       "    </tr>\n",
       "    <tr>\n",
       "      <th>2</th>\n",
       "      <td>-g45vqccdzI</td>\n",
       "      <td>-g45vqccdzI.h5</td>\n",
       "      <td>1332</td>\n",
       "    </tr>\n",
       "    <tr>\n",
       "      <th>3</th>\n",
       "      <td>FzUdcaxw_vs</td>\n",
       "      <td>FzUdcaxw_vs.h5</td>\n",
       "      <td>1826</td>\n",
       "    </tr>\n",
       "    <tr>\n",
       "      <th>4</th>\n",
       "      <td>-g0iPSnQt6w</td>\n",
       "      <td>-g0iPSnQt6w.h5</td>\n",
       "      <td>1657</td>\n",
       "    </tr>\n",
       "    <tr>\n",
       "      <th>...</th>\n",
       "      <td>...</td>\n",
       "      <td>...</td>\n",
       "      <td>...</td>\n",
       "    </tr>\n",
       "    <tr>\n",
       "      <th>170</th>\n",
       "      <td>g2wUCRRni28</td>\n",
       "      <td>g2wUCRRni28.h5</td>\n",
       "      <td>952</td>\n",
       "    </tr>\n",
       "    <tr>\n",
       "      <th>171</th>\n",
       "      <td>g2QdwYqm8pg</td>\n",
       "      <td>g2QdwYqm8pg.h5</td>\n",
       "      <td>1129</td>\n",
       "    </tr>\n",
       "    <tr>\n",
       "      <th>172</th>\n",
       "      <td>g2SdWBPoXZ0</td>\n",
       "      <td>g2SdWBPoXZ0.h5</td>\n",
       "      <td>1678</td>\n",
       "    </tr>\n",
       "    <tr>\n",
       "      <th>173</th>\n",
       "      <td>g2ELiaFjKfs-</td>\n",
       "      <td>g2ELiaFjKfs-.h5</td>\n",
       "      <td>1091</td>\n",
       "    </tr>\n",
       "    <tr>\n",
       "      <th>174</th>\n",
       "      <td>g2NA_eBUcH8</td>\n",
       "      <td>g2NA_eBUcH8.h5</td>\n",
       "      <td>2225</td>\n",
       "    </tr>\n",
       "  </tbody>\n",
       "</table>\n",
       "<p>175 rows × 3 columns</p>\n",
       "</div>"
      ],
      "text/plain": [
       "        file_name        landmarks  frames\n",
       "0     FzmL8SL6Bow   FzmL8SL6Bow.h5    1196\n",
       "1     FZrU_mEryAs   FZrU_mEryAs.h5    1213\n",
       "2     -g45vqccdzI   -g45vqccdzI.h5    1332\n",
       "3     FzUdcaxw_vs   FzUdcaxw_vs.h5    1826\n",
       "4     -g0iPSnQt6w   -g0iPSnQt6w.h5    1657\n",
       "..            ...              ...     ...\n",
       "170   g2wUCRRni28   g2wUCRRni28.h5     952\n",
       "171   g2QdwYqm8pg   g2QdwYqm8pg.h5    1129\n",
       "172   g2SdWBPoXZ0   g2SdWBPoXZ0.h5    1678\n",
       "173  g2ELiaFjKfs-  g2ELiaFjKfs-.h5    1091\n",
       "174   g2NA_eBUcH8   g2NA_eBUcH8.h5    2225\n",
       "\n",
       "[175 rows x 3 columns]"
      ]
     },
     "execution_count": 91,
     "metadata": {},
     "output_type": "execute_result"
    }
   ],
   "source": [
    "df"
   ]
  },
  {
   "cell_type": "code",
   "execution_count": 93,
   "id": "7c354861",
   "metadata": {},
   "outputs": [],
   "source": [
    "df.to_csv(\"ASLens-landmarks.csv\",index=False, encoding='utf-8')"
   ]
  }
 ],
 "metadata": {
  "kernelspec": {
   "display_name": "Python 3 (ipykernel)",
   "language": "python",
   "name": "python3"
  },
  "language_info": {
   "codemirror_mode": {
    "name": "ipython",
    "version": 3
   },
   "file_extension": ".py",
   "mimetype": "text/x-python",
   "name": "python",
   "nbconvert_exporter": "python",
   "pygments_lexer": "ipython3",
   "version": "3.9.13"
  }
 },
 "nbformat": 4,
 "nbformat_minor": 5
}
