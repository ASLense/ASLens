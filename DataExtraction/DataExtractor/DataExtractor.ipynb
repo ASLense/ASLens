{
 "cells": [
  {
   "cell_type": "code",
   "execution_count": 23,
   "id": "6950eade-5f41-445b-8d25-dd05535f4daf",
   "metadata": {},
   "outputs": [],
   "source": [
    "import numpy as np\n",
    "import cv2\n",
    "import time\n",
    "import matplotlib.pyplot as plt\n",
    "import glob\n",
    "import mediapipe as mp\n",
    "from constants import LIPS_POSITIONS, FACE_OVAL,HAND_POSITIONS,HAND_CONNECTIONS\n",
    "from google.protobuf.json_format import MessageToDict\n",
    "from mediapipe.framework.formats import landmark_pb2\n",
    "from mediapipe.tasks.python.components.containers import NormalizedLandmark"
   ]
  },
  {
   "cell_type": "code",
   "execution_count": 24,
   "id": "f7373f4a",
   "metadata": {},
   "outputs": [],
   "source": [
    "class Drawing:\n",
    "    def __init__(self):\n",
    "        self.mpFace = mp.solutions.face_mesh\n",
    "        self.mpDrawHands = mp.solutions.drawing_utils # Initializing drawing object for hands\n",
    "        self.mpDrawFace = mp.solutions.drawing_utils # Initializing drawing object for Face\n",
    "        self.mp_drawing_styles =mp.solutions.drawing_styles\n",
    "        self.mp_drawing_face = self.mpDrawFace.DrawingSpec(color=(0,0,200),thickness=0,circle_radius=1) #Initializing drawing specifications for face\n",
    "        self.mp_drawing_hands = self.mpDrawHands.DrawingSpec(color=(255,0,0),thickness=0,circle_radius=1) #Initializing drawing specifications for hand\n",
    "        self.mpHands = mp.solutions.hands\n",
    "    def drawLandmarks(self,img,resultsFace,resultsHands,img_size=(700,720)):\n",
    "        img=img.copy()\n",
    "        if resultsFace is not None:\n",
    "            for var in resultsFace:\n",
    "                cv2.circle(img, (int(var[0]*img_size[0]),int(var[1]*img_size[0])), 1, (0, 0, 255), -1)\n",
    "        for key in resultsHands:\n",
    "            points={}\n",
    "            for i,var in enumerate(resultsHands[key]):\n",
    "                point = (int(var[0]*img_size[0]),int(var[1]*img_size[0]))\n",
    "                cv2.circle(img, point, 3, (0, 0, 255), -1)\n",
    "                points[i]=point\n",
    "            for conn in HAND_CONNECTIONS:\n",
    "                cv2.line(img, points[conn], points[HAND_CONNECTIONS[conn]], (216, 223, 230), 2)\n",
    "        return img\n",
    "        "
   ]
  },
  {
   "cell_type": "code",
   "execution_count": 25,
   "id": "790b3d25-cf0b-4d46-93d1-04e812b15457",
   "metadata": {},
   "outputs": [],
   "source": [
    "class LandmarkExtractor:\n",
    "    def __init__(self):\n",
    "        self.mpHands = mp.solutions.hands # Load mediapipe hands module\n",
    "        self.mpFace = mp.solutions.face_mesh\n",
    "        self.hands = self.mpHands.Hands( # Initialize hands model\n",
    "            max_num_hands=2,\n",
    "            model_complexity=1,\n",
    "            min_detection_confidence=0.5,\n",
    "            min_tracking_confidence=0.5,\n",
    "            static_image_mode=False)\n",
    "        \n",
    "         # Load mediapipe face module\n",
    "        self.faces = self.mpFace.FaceMesh( # Initialize Face model\n",
    "            min_detection_confidence=0.5,\n",
    "            min_tracking_confidence=0.5,\n",
    "            static_image_mode=False)\n",
    "    def getHandLandmarks(self,hand,scale=False,img_size=(700,720)):\n",
    "        list_hand_positions=[]\n",
    "       # print(type(resultsFace.multi_face_landmarks[0]))\n",
    "\n",
    "\n",
    "        for cord in HAND_POSITIONS:\n",
    "            x1,y1,z1=self.__getCoordinates(hand,cord,scale,img_size)\n",
    "\n",
    "            list_hand_positions.append((x1,y1,z1))\n",
    "        return np.array(list_hand_positions)    \n",
    "    def findHands(self,img,resultsFace):\n",
    "        hands={}\n",
    "        imgRGB = cv2.cvtColor(img,cv2.COLOR_BGR2RGB) # Transform to RGB\n",
    "        results = self.hands.process(imgRGB) # Feeding image through Hands model\n",
    "        #print(resultsFace.multi_face_landmarks[0])\n",
    "        #face = resultsFace.multi_face_landmarks[0]\n",
    "        if results.multi_handedness!=None:\n",
    "            if len(results.multi_hand_landmarks)==1:\n",
    "                mid=np.mean(resultsFace[:,0])\n",
    "                if results.multi_hand_landmarks[0].landmark[13].x<mid:\n",
    "                    hands[\"Right\"]=results.multi_hand_landmarks[0]\n",
    "                else:\n",
    "                    hands[\"Left\"]=results.multi_hand_landmarks[0]\n",
    "            else:\n",
    "                if results.multi_hand_landmarks[0].landmark[0].x<results.multi_hand_landmarks[1].landmark[0].x:\n",
    "                    hands[\"Right\"]=results.multi_hand_landmarks[0]\n",
    "                    hands[\"Left\"]=results.multi_hand_landmarks[1]\n",
    "                else:\n",
    "                    hands[\"Left\"]=results.multi_hand_landmarks[0]\n",
    "                    hands[\"Right\"]=results.multi_hand_landmarks[1]\n",
    "            #for hand in results.multi_handedness:\n",
    "            #    classification.append(MessageToDict(hand)['classification'][0])\n",
    "            #print(classification)\n",
    "            #if len(classification)==1:\n",
    "            #    hands[results.multi_hand_landmarks[0].classification[0].label]=results.multi_hand_landmarks[0]\n",
    "            #else:\n",
    "            #    hands[results.multi_hand_landmarks[0].classification[0].label]=results.multi_hand_landmarks[0]\n",
    "            #    hands[results.multi_hand_landmarks[1].classification[0].label]=results.multi_hand_landmarks[1]\n",
    "\n",
    "            #for hand in classification:\n",
    "            #    index=hand['index']\n",
    "            #    if len(classification)==1 and index>0:\n",
    "            #        index=index-1\n",
    "            #    hands[hand['label']]=results.multi_hand_landmarks[index]\n",
    "        for key in hands:\n",
    "            hands[key]=self.getHandLandmarks(hands[key])\n",
    "        return hands # Returning values from model prediction\n",
    "        \n",
    "    def findFace(self, img):\n",
    "        imgRGB = cv2.cvtColor(img,cv2.COLOR_BGR2RGB) # Transform image to RGB\n",
    "        results = self.faces.process(imgRGB) # Feeding image through Face model\n",
    "        return results # Returning values from model prediction\n",
    "        \n",
    "    \n",
    "    def __getCoordinates(self,landmarks,index,scale,img_size): \n",
    "        x=landmarks.landmark[index].x\n",
    "        y=landmarks.landmark[index].y\n",
    "        z=landmarks.landmark[index].z\n",
    "        if scale:\n",
    "            x=x*img_size[0]\n",
    "            y=y*img_size[1]\n",
    "        return x,y,z  \n",
    "        \n",
    "    def getLipsLandmarks(self,resultsFace,scale=False,img_size=(700,720)):\n",
    "        list_lips_positions=[]\n",
    "        if resultsFace.multi_face_landmarks:\n",
    "            landmarkovi=resultsFace.multi_face_landmarks[0]\n",
    "\n",
    "            for cord in LIPS_POSITIONS:\n",
    "                x1,y1,z1=self.__getCoordinates(landmarkovi,cord[0],scale,img_size)\n",
    "                x2,y2,z2=self.__getCoordinates(landmarkovi,cord[1],scale,img_size)\n",
    "\n",
    "                avg_x=float((x1+x2)/2)\n",
    "                avg_y=float((y1+y2)/2)\n",
    "\n",
    "                list_lips_positions.append((avg_x,avg_y,z1))\n",
    "        return np.array(list_lips_positions)\n",
    " \n",
    "    def getFaceLandmarks(self,resultsFace,scale=False,img_size=(700,720)):\n",
    "        list_face_positions=[]\n",
    "       # print(type(resultsFace.multi_face_landmarks[0]))\n",
    "        if resultsFace.multi_face_landmarks:\n",
    "            landmarkovi=resultsFace.multi_face_landmarks[0]\n",
    "\n",
    "            for cord in FACE_OVAL:\n",
    "                x1,y1,z1=self.__getCoordinates(landmarkovi,cord,scale,img_size)\n",
    "\n",
    "                list_face_positions.append((x1,y1,z1))\n",
    "        return np.array(list_face_positions)"
   ]
  },
  {
   "cell_type": "code",
   "execution_count": 26,
   "id": "e77eb362-db4d-4ae9-97c9-3b94d2ad395a",
   "metadata": {},
   "outputs": [],
   "source": [
    "class VideoLoader:\n",
    "    def __init__(self):\n",
    "        self.fourcc = cv2.VideoWriter_fourcc(*'mp4v')\n",
    "        self.landmark_extractor=LandmarkExtractor()\n",
    "        self.drawing = Drawing()\n",
    "\n",
    "    def loadVideo(self,path,output_path=None):\n",
    "        \n",
    "        cap = cv2.VideoCapture(path)\n",
    "        if output_path is not None:\n",
    "            out = cv2.VideoWriter(output_path,self.fourcc, 15,(700,720))\n",
    "\n",
    "        use_frame=True\n",
    "        frames=[]  \n",
    "        i = 0\n",
    "        while(True):\n",
    "            ret, frame = cap.read() #reading frames\n",
    "            if ret: #if frame exist ret=True, otherwise False\n",
    "                if use_frame: # this means we will skip every other frame\n",
    "                    frame=frame[:, 300:1000,:] #cropping image, retainig all 3 rgb channels\n",
    "                    frames.append(frame)\n",
    "                    i+=1\n",
    "                   # print((i*(1000/15))/1000)\n",
    "                    resultsFace=self.landmark_extractor.findFace(frame) #using function defined above to detect facial landmarks in a frame (findFace)\n",
    "                    resultsFace=self.landmark_extractor.getFaceLandmarks(resultsFace)\n",
    "                    resultsHands=self.landmark_extractor.findHands(frame,resultsFace) #using function defined above to detect hand landmarks in a frame (findHnds)\n",
    "                    if output_path is not None:\n",
    "                        out.write(self.drawing.drawLandmarks(frame.copy(),resultsFace,resultsHands)) #drawing landmarks on frames by using function defined above (drawLadmarks)\n",
    "        \n",
    "                    use_frame=False\n",
    "                else:\n",
    "                    use_frame=True\n",
    "            else:\n",
    "                break\n",
    "        if output_path is not None:\n",
    "            out.release() #close writing stream\n",
    "        return frames"
   ]
  },
  {
   "cell_type": "code",
   "execution_count": 27,
   "id": "00bb0008",
   "metadata": {},
   "outputs": [],
   "source": [
    "videoLoader = VideoLoader()"
   ]
  },
  {
   "cell_type": "code",
   "execution_count": 28,
   "id": "b6968f12",
   "metadata": {
    "scrolled": true
   },
   "outputs": [],
   "source": [
    "frames=videoLoader.loadVideo(\"../../ASLens - test data 1/-g45vqccdzI-1-rgb_front.mp4\",output_path='novitest.mp4')"
   ]
  },
  {
   "cell_type": "code",
   "execution_count": null,
   "id": "1a08893e",
   "metadata": {
    "scrolled": true
   },
   "outputs": [],
   "source": [
    "r=15\n",
    "landmark_extractor=LandmarkExtractor()\n",
    "resultsFace=landmark_extractor.findFace(frames[r]) #using function defined above to detect facial landmarks in a frame (findFace)\n",
    "resultsFace=landmark_extractor.getFaceLandmarks(resultsFace)\n",
    "resultsHands=landmark_extractor.findHands(frames[r],resultsFace)"
   ]
  },
  {
   "cell_type": "code",
   "execution_count": 9,
   "id": "bc1e1c21",
   "metadata": {},
   "outputs": [
    {
     "ename": "NameError",
     "evalue": "name 'resultsFace' is not defined",
     "output_type": "error",
     "traceback": [
      "\u001b[1;31m---------------------------------------------------------------------------\u001b[0m",
      "\u001b[1;31mNameError\u001b[0m                                 Traceback (most recent call last)",
      "\u001b[1;32m~\\AppData\\Local\\Temp\\ipykernel_16812\\555931795.py\u001b[0m in \u001b[0;36m<module>\u001b[1;34m\u001b[0m\n\u001b[1;32m----> 1\u001b[1;33m \u001b[0mresultsFace\u001b[0m\u001b[1;33m\u001b[0m\u001b[1;33m\u001b[0m\u001b[0m\n\u001b[0m",
      "\u001b[1;31mNameError\u001b[0m: name 'resultsFace' is not defined"
     ]
    }
   ],
   "source": [
    "resultsFace"
   ]
  },
  {
   "cell_type": "code",
   "execution_count": 171,
   "id": "b4f9c192",
   "metadata": {},
   "outputs": [
    {
     "data": {
      "text/plain": [
       "array([0.37937962, 0.36776912, 0.36418289, 0.41164975, 0.3660676 ,\n",
       "       0.39459199, 0.36329077, 0.37130928, 0.38015714, 0.40265557,\n",
       "       0.42630404, 0.45073992, 0.43973733, 0.43393838, 0.45701037,\n",
       "       0.37277329, 0.41954869, 0.44519885, 0.38754401, 0.43094711,\n",
       "       0.42059967, 0.47684115, 0.39820114, 0.46431862, 0.40970725,\n",
       "       0.38860485, 0.44932944, 0.47138701, 0.47720866, 0.4631722 ,\n",
       "       0.47123863, 0.47430483, 0.43984354, 0.47842138, 0.46757789,\n",
       "       0.45695059])"
      ]
     },
     "execution_count": 171,
     "metadata": {},
     "output_type": "execute_result"
    }
   ],
   "source": [
    "(resultsFace[:,0]+resultsFace[:,1])/2"
   ]
  },
  {
   "cell_type": "code",
   "execution_count": 210,
   "id": "24a63f82",
   "metadata": {},
   "outputs": [],
   "source": [
    "tada ={1:3,2:3}"
   ]
  },
  {
   "cell_type": "code",
   "execution_count": 212,
   "id": "4e160cf1",
   "metadata": {},
   "outputs": [
    {
     "name": "stdout",
     "output_type": "stream",
     "text": [
      "1\n",
      "2\n"
     ]
    }
   ],
   "source": [
    "for i in tada:\n",
    "    print(i)"
   ]
  },
  {
   "cell_type": "code",
   "execution_count": null,
   "id": "5cde3e47",
   "metadata": {},
   "outputs": [],
   "source": [
    "mp."
   ]
  }
 ],
 "metadata": {
  "kernelspec": {
   "display_name": "Python 3 (ipykernel)",
   "language": "python",
   "name": "python3"
  },
  "language_info": {
   "codemirror_mode": {
    "name": "ipython",
    "version": 3
   },
   "file_extension": ".py",
   "mimetype": "text/x-python",
   "name": "python",
   "nbconvert_exporter": "python",
   "pygments_lexer": "ipython3",
   "version": "3.9.13"
  }
 },
 "nbformat": 4,
 "nbformat_minor": 5
}
