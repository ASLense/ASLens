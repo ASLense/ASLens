{
 "cells": [
  {
   "cell_type": "code",
   "execution_count": 3,
   "id": "f7abd371-e001-4712-86ee-5dffc5199472",
   "metadata": {},
   "outputs": [],
   "source": [
    "import numpy as np\n",
    "import cv2\n",
    "import glob"
   ]
  },
  {
   "cell_type": "code",
   "execution_count": 15,
   "id": "c4f2c688-4797-48f5-8e38-384a0fca0479",
   "metadata": {},
   "outputs": [],
   "source": [
    "cap = cv2.VideoCapture('ASLens-test1/ASLens - test data 1/3ddzkmFPEBU-1-rgb_front.mp4')\n",
    "i=0\n",
    "ret = True\n",
    "fourcc = cv2.VideoWriter_fourcc(*'mp4v')\n",
    "out = cv2.VideoWriter('output.mp4',fourcc, 30,(1280,720))\n",
    "use_frame=30\n",
    "while(ret):\n",
    "    ret, frame = cap.read()\n",
    "    if use\n",
    "    if ret:\n",
    "        out.write(frame)\n",
    "        i+=1\n",
    "    #cv2.imshow('frame',frame)\n",
    "\n"
   ]
  },
  {
   "cell_type": "code",
   "execution_count": 6,
   "id": "890fd323-53d8-40b4-864b-ccb3b1e91903",
   "metadata": {},
   "outputs": [
    {
     "data": {
      "text/plain": [
       "2789"
      ]
     },
     "execution_count": 6,
     "metadata": {},
     "output_type": "execute_result"
    }
   ],
   "source": [
    "i"
   ]
  },
  {
   "cell_type": "code",
   "execution_count": null,
   "id": "3e31a543-d854-43f2-a03c-368c6c20404b",
   "metadata": {},
   "outputs": [],
   "source": []
  }
 ],
 "metadata": {
  "kernelspec": {
   "display_name": "Python [conda env:base] *",
   "language": "python",
   "name": "conda-base-py"
  },
  "language_info": {
   "codemirror_mode": {
    "name": "ipython",
    "version": 3
   },
   "file_extension": ".py",
   "mimetype": "text/x-python",
   "name": "python",
   "nbconvert_exporter": "python",
   "pygments_lexer": "ipython3",
   "version": "3.12.3"
  }
 },
 "nbformat": 4,
 "nbformat_minor": 5
}
